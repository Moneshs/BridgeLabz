{
 "cells": [
  {
   "cell_type": "code",
   "execution_count": 1,
   "metadata": {},
   "outputs": [
    {
     "name": "stdout",
     "output_type": "stream",
     "text": [
      "enter the name:Monesh S\n",
      "hello Monesh S,how are you?\n"
     ]
    }
   ],
   "source": [
    "name=input(\"enter the name:\")\n",
    "L=len(name)\n",
    "if(L>3):\n",
    "    print(\"hello \"+ name +\",how are you?\")\n",
    "else:\n",
    "    print(\"invalid name\")"
   ]
  },
  {
   "cell_type": "code",
   "execution_count": 2,
   "metadata": {},
   "outputs": [
    {
     "name": "stdout",
     "output_type": "stream",
     "text": [
      "Heads percent: 51.3\n",
      "Tails percent: 48.7\n"
     ]
    }
   ],
   "source": [
    "import random\n",
    "def flipcoin():\n",
    "    heads=0\n",
    "    tails=0\n",
    "    hpercent=0\n",
    "    tpercent=0\n",
    "    for i in range(1000):\n",
    "        coin=random.randint(1,2)\n",
    "        if coin==1:\n",
    "            #print(\"heads\")\n",
    "            heads+=1\n",
    "        else:\n",
    "            #print(\"tails\")\n",
    "            tails+=1\n",
    "    hpercent=(heads/10)\n",
    "    tpercent=100.0-hpercent\n",
    "    print(\"Heads percent: \" + str(hpercent)) \n",
    "    print(\"Tails percent: \" + str(tpercent)) \n",
    "    \n",
    "flipcoin()"
   ]
  },
  {
   "cell_type": "code",
   "execution_count": 3,
   "metadata": {},
   "outputs": [
    {
     "name": "stdout",
     "output_type": "stream",
     "text": [
      "enter the year1996\n",
      "its a leap year\n"
     ]
    }
   ],
   "source": [
    "def leapyear(year):\n",
    "    if(((year%4==0)and(year%100!=0))or(year%400==0)):\n",
    "        print(\"its a leap year\")\n",
    "    else:\n",
    "        print(\"its not a leap year\")\n",
    "\n",
    "year=int(input(\"enter the year\"))\n",
    "leapyear(year)"
   ]
  },
  {
   "cell_type": "code",
   "execution_count": 4,
   "metadata": {},
   "outputs": [
    {
     "name": "stdout",
     "output_type": "stream",
     "text": [
      "enter the n value:31\n",
      "factors of n: 2147483648\n"
     ]
    }
   ],
   "source": [
    "def factors(n):\n",
    "    N=1\n",
    "    if n>0 and n<32:\n",
    "        for i in range(1,n+1):\n",
    "            N=2*N\n",
    "        print(\"factors of n:\",N )\n",
    "    else:\n",
    "        print(\"enter less than 32\")\n",
    "\n",
    "n=int(input(\"enter the n value:\"))\n",
    "factors(n)"
   ]
  },
  {
   "cell_type": "code",
   "execution_count": 5,
   "metadata": {},
   "outputs": [
    {
     "name": "stdout",
     "output_type": "stream",
     "text": [
      "enter the N value:3\n",
      "Nth harmonic value is: 1.83\n"
     ]
    }
   ],
   "source": [
    "def harmonic(N):\n",
    "    harmonic=1.00\n",
    "    for i in range(2,N+1):\n",
    "        harmonic+=1/i\n",
    "    harmonic=round(harmonic,2)\n",
    "    print(\"Nth harmonic value is:\",harmonic)\n",
    "\n",
    "N=int(input(\"enter the N value:\"))\n",
    "harmonic(N)"
   ]
  },
  {
   "cell_type": "code",
   "execution_count": 7,
   "metadata": {},
   "outputs": [
    {
     "name": "stdout",
     "output_type": "stream",
     "text": [
      "enter the N value:315\n",
      "3\n",
      "3\n",
      "5\n",
      "7\n"
     ]
    }
   ],
   "source": [
    "import math \n",
    "def primeFactors(n): \n",
    "    while n % 2 == 0: \n",
    "        print(2 ), \n",
    "        n = n / 2\n",
    "\n",
    "    for i in range(3,int(math.sqrt(n))+1,2): \n",
    "        while n % i== 0: \n",
    "            print(i), \n",
    "            n = n / i \n",
    "\n",
    "    if n > 2: \n",
    "        print(n) \n",
    "\n",
    "n = int(input(\"enter the N value:\"))\n",
    "primeFactors(n)"
   ]
  },
  {
   "cell_type": "code",
   "execution_count": null,
   "metadata": {},
   "outputs": [],
   "source": []
  }
 ],
 "metadata": {
  "kernelspec": {
   "display_name": "Python 3",
   "language": "python",
   "name": "python3"
  },
  "language_info": {
   "codemirror_mode": {
    "name": "ipython",
    "version": 3
   },
   "file_extension": ".py",
   "mimetype": "text/x-python",
   "name": "python",
   "nbconvert_exporter": "python",
   "pygments_lexer": "ipython3",
   "version": "3.7.4"
  }
 },
 "nbformat": 4,
 "nbformat_minor": 2
}
